{
 "cells": [
  {
   "cell_type": "markdown",
   "source": [
    "# Bell"
   ],
   "metadata": {}
  },
  {
   "cell_type": "code",
   "execution_count": null,
   "source": [
    "from qiskit import QuantumRegister, ClassicalRegister, QuantumCircuit\r\n",
    "from numpy import pi\r\n",
    "\r\n",
    "qreg_q = QuantumRegister(2, 'q')\r\n",
    "creg_c = ClassicalRegister(2, 'c')\r\n",
    "circuit = QuantumCircuit(qreg_q, creg_c)\r\n",
    "\r\n",
    "circuit.reset(qreg_q[0])\r\n",
    "circuit.reset(qreg_q[1])\r\n",
    "circuit.h(qreg_q[0])\r\n",
    "circuit.cx(qreg_q[0], qreg_q[1])\r\n",
    "circuit.measure(qreg_q[0], creg_c[0])\r\n",
    "circuit.measure(qreg_q[1], creg_c[1])"
   ],
   "outputs": [],
   "metadata": {}
  },
  {
   "cell_type": "markdown",
   "source": [
    "# GHZ"
   ],
   "metadata": {}
  },
  {
   "cell_type": "code",
   "execution_count": null,
   "source": [
    "from qiskit import QuantumRegister, ClassicalRegister, QuantumCircuit\r\n",
    "from numpy import pi\r\n",
    "\r\n",
    "qreg_q = QuantumRegister(3, 'q')\r\n",
    "creg_c = ClassicalRegister(3, 'c')\r\n",
    "circuit = QuantumCircuit(qreg_q, creg_c)\r\n",
    "\r\n",
    "circuit.reset(qreg_q[0])\r\n",
    "circuit.reset(qreg_q[1])\r\n",
    "circuit.h(qreg_q[0])\r\n",
    "circuit.cx(qreg_q[0], qreg_q[1])\r\n",
    "circuit.reset(qreg_q[2])\r\n",
    "circuit.cx(qreg_q[0], qreg_q[2])\r\n",
    "circuit.measure(qreg_q[0], creg_c[0])\r\n",
    "circuit.measure(qreg_q[1], creg_c[1])\r\n",
    "circuit.measure(qreg_q[2], creg_c[2])"
   ],
   "outputs": [],
   "metadata": {}
  },
  {
   "cell_type": "code",
   "execution_count": null,
   "source": [
    "print(creg_c)"
   ],
   "outputs": [],
   "metadata": {}
  },
  {
   "cell_type": "code",
   "execution_count": null,
   "source": [],
   "outputs": [],
   "metadata": {}
  },
  {
   "cell_type": "markdown",
   "source": [
    "# Grover"
   ],
   "metadata": {}
  },
  {
   "cell_type": "markdown",
   "source": [
    "from qiskit import QuantumRegister, ClassicalRegister, QuantumCircuit\r\n",
    "from numpy import pi\r\n",
    "\r\n",
    "qreg_q = QuantumRegister(2, 'q')\r\n",
    "creg_c = ClassicalRegister(2, 'c')\r\n",
    "circuit = QuantumCircuit(qreg_q, creg_c)\r\n",
    "\r\n",
    "circuit.reset(qreg_q[0])\r\n",
    "circuit.reset(qreg_q[1])\r\n",
    "circuit.h(qreg_q[1])\r\n",
    "circuit.h(qreg_q[0])\r\n",
    "circuit.x(qreg_q[1])\r\n",
    "circuit.x(qreg_q[0])\r\n",
    "circuit.cz(qreg_q[0], qreg_q[1])\r\n",
    "circuit.x(qreg_q[0])\r\n",
    "circuit.x(qreg_q[1])\r\n",
    "circuit.h(qreg_q[0])\r\n",
    "circuit.h(qreg_q[1])\r\n",
    "circuit.z(qreg_q[0])\r\n",
    "circuit.z(qreg_q[1])\r\n",
    "circuit.cz(qreg_q[0], qreg_q[1])\r\n",
    "circuit.h(qreg_q[0])\r\n",
    "circuit.h(qreg_q[1])\r\n",
    "circuit.measure(qreg_q[0], creg_c[0])\r\n",
    "circuit.measure(qreg_q[1], creg_c[1])"
   ],
   "metadata": {}
  }
 ],
 "metadata": {
  "orig_nbformat": 4,
  "language_info": {
   "name": "python",
   "version": "3.8.3"
  },
  "kernelspec": {
   "name": "python3",
   "display_name": "Python 3.8.3 64-bit ('base': conda)"
  },
  "interpreter": {
   "hash": "cc5f70855ac006f3de45a3cc3b9e7d8d53845e50458809cb162b0174266dec97"
  }
 },
 "nbformat": 4,
 "nbformat_minor": 2
}