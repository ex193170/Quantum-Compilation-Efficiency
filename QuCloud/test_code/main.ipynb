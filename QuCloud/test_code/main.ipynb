{
 "cells": [
  {
   "cell_type": "markdown",
   "metadata": {},
   "source": [
    "# 图类"
   ]
  },
  {
   "cell_type": "code",
   "execution_count": 1,
   "metadata": {},
   "outputs": [],
   "source": [
    "class Vertex:\n",
    "    def __init__(self,key,value=0):\n",
    "        self.id = key\n",
    "        self.error_value = value\n",
    "        self.connectedTo = {}\n",
    "    \n",
    "    def addNeighbor(self,nbr,weight=0):\n",
    "        self.connectedTo[nbr] = weight\n",
    "    \n",
    "    def __str__(self):\n",
    "        return str(self.id) +': error_value is '+ str(self.error_value) + ' connectedTo: '+str([x.id for x in self.connectedTo])\n",
    "    \n",
    "    def getConnections(self):\n",
    "        return [x.id for x in self.connectedTo]\n",
    "    \n",
    "    def getId(self):\n",
    "        return self.id\n",
    "    \n",
    "    def getValue(self):\n",
    "        return self.error_value\n",
    "    \n",
    "    def getWeight(self,nbr):\n",
    "        return self.connectedTo[nbr]\n",
    "    \n",
    "class Graph:\n",
    "    def __init__(self):\n",
    "        self.vertList = {}\n",
    "        self.edgeList = {}\n",
    "        self.numVertices = 0\n",
    "        self.numberEdges = 0\n",
    "        \n",
    "    def addVertex(self,key,value):\n",
    "        self.numVertices = self.numVertices + 1\n",
    "        newVertex = Vertex(key,value)\n",
    "        self.vertList[key]=newVertex\n",
    "        return newVertex\n",
    "    \n",
    "    def getVertex(self,n):\n",
    "        if n in self.vertList:\n",
    "            return self.vertList[n]\n",
    "        else:\n",
    "            return None\n",
    "    \n",
    "    def __contains__(self,n):\n",
    "        return n in self.vertList\n",
    "    \n",
    "    def addEdge(self,f,t,cost=0):\n",
    "        if f not in self.vertList:\n",
    "            nv = self.addVertex(f)\n",
    "        if t not in self.vertList:\n",
    "            nv = self.addVertex(t)\n",
    "        self.vertList[f].addNeighbor(self.vertList[t],cost)\n",
    "        self.vertList[t].addNeighbor(self.vertList[f],cost)\n",
    "        self.edgeList[(f,t)] = cost\n",
    "        self.numberEdges += 1\n",
    "    \n",
    "    def getVertices(self):\n",
    "        return self.vertList.keys()\n",
    "    \n",
    "    def getEdges(self):\n",
    "        return self.edgeList.keys()\n",
    "\n",
    "    def getEdgeWeight(self,f,t):\n",
    "        return self.vertList[f].getWeight(self.vertList[t])\n",
    "\n",
    "    def __iter__(self):\n",
    "        return iter(self.vertList.values())"
   ]
  },
  {
   "cell_type": "markdown",
   "metadata": {},
   "source": [
    "# 将图转换为列表数据类型"
   ]
  },
  {
   "cell_type": "code",
   "execution_count": 2,
   "metadata": {},
   "outputs": [],
   "source": [
    "def change_Graph_to_List(graph):\n",
    "    List=[]\n",
    "    List_edge=[]\n",
    "    List_node=[]\n",
    "    node_list=[]\n",
    "    for i,j in graph.getEdges():\n",
    "        List.append([i,j])\n",
    "        List_edge.append(graph.getEdgeWeight(i,j))\n",
    "    for i in graph.getVertices():\n",
    "        List_node.append(graph.vertList[i].getValue())\n",
    "        node_list.append(\"node\"+str(i))\n",
    "    return List, List_edge, List_node, node_list"
   ]
  },
  {
   "cell_type": "markdown",
   "metadata": {},
   "source": [
    "# fast man算法，层次聚类算法"
   ]
  },
  {
   "cell_type": "code",
   "execution_count": 3,
   "metadata": {},
   "outputs": [],
   "source": [
    "#-*- coding:utf-8 –*-\n",
    "\n",
    "# 创建关系矩阵\n",
    "def create_relation_matrix(List, n):\n",
    "    adjacent_matrix = create_matrix(n, 0)\n",
    "    for relation in List:\n",
    "        adjacent_matrix[relation[0]][relation[1]] = 1\n",
    "        adjacent_matrix[relation[1]][relation[0]] = 1\n",
    "    return adjacent_matrix\n",
    "# 输出列表\n",
    "def printf(List):\n",
    "    for x in List:\n",
    "        print (x)\n",
    "# 列表去重\n",
    "def list_unique(List):\n",
    "    new_list = []\n",
    "    for id in List:\n",
    "        if id not in new_list:\n",
    "            new_list.append(id)\n",
    "    return new_list\n",
    "# 创建矩阵，number为矩阵一维个数，amount为填充数字\n",
    "def create_matrix(number, amount):\n",
    "    matrix = []\n",
    "    for i in range(0, number):\n",
    "        tmp = []\n",
    "        for j in range(0, number):\n",
    "            tmp.append(amount)\n",
    "        matrix.append(tmp)\n",
    "    return matrix\n",
    "# 查找包含该元素的所有位置\n",
    "def find_index(List, node):\n",
    "    return [i for i, j in enumerate(List) if j == node]\n",
    "\n",
    "# 获取模块度\n",
    "def get_modularity(node_list, node_club, club_list, node_matrix):\n",
    "    uni = list_unique(club_list)\n",
    "    # 更新社团位置\n",
    "    for node in uni:                            #node 相当于label社团标签\n",
    "        idices = find_index(club_list, node)    #找到标签在club_list中的位置\n",
    "        for i in idices:                        #遍历所有label的位置\n",
    "            node_club[i] = uni.index(node)      #node在标签中的位置,并将node_club中club_list所在的位置设为当前uni.index所在的位置，表示交换后的club_list\n",
    "    Q = 0\n",
    "    m = sum([sum(node) for node in node_matrix])/2  # 网络的边的数目\n",
    "    k = len(list_unique(node_club))  # 当前社团数目\n",
    "    e = create_matrix(k, 0)  # 构造0矩阵\n",
    "    for i in range(k):\n",
    "        idx = find_index(node_club, i)          #找到每个社团对应的索引 \n",
    "        labelsi = idx\n",
    "        for j in range(k):\n",
    "            idx = find_index(node_club, j)\n",
    "            labelsj = idx\n",
    "            for ii in labelsi:\n",
    "                for jj in labelsj:\n",
    "                    e[i][j] = e[i][j]+node_matrix[ii][jj]  # e[i][j]代表i社团与j社团之间有多少连接，得到一个社团连接矩阵\n",
    "    e = [[float(j)/(2*m) for j in i] for i in e] #将全部数除2*m\n",
    "    a = []\n",
    "    for i in range(k):\n",
    "        ai = sum(e[i])\n",
    "        a.append(ai) #得到每一行之和，即每个社团与其他社团已经自己社团的连线之和\n",
    "        Q = Q + e[i][i]-ai**2  #对角迹之和减去ai的平方\n",
    "    return Q, e, a, node_club  #返回Q和e列表，a列表，当前的节点标签\n",
    "    \n",
    "def fast_newman(node_list, List,List_edge,List_node,n,divide_num):\n",
    "    adjacent_matrix=create_relation_matrix(List, n)\n",
    "    n = len(adjacent_matrix)\n",
    "    max_id = n\n",
    "    Z = []\n",
    "    # 初始划分，node_list是节点标号，node_club是社团标号的变换，club_list是社团标号\n",
    "    node_club = [0 for i in range(n)]\n",
    "    club_list = [i for i in range(n)]\n",
    "    step = 1\n",
    "    while len(list_unique(club_list)) != 1:  # 计算满足条件的个数\n",
    "        Q, e, a, node_club = get_modularity(node_list, node_club, club_list, adjacent_matrix)\n",
    "        k = len(e)  # 社团数目\n",
    "        DeltaQs = []\n",
    "        DeltaQs_i = []\n",
    "        DeltaQs_j = []\n",
    "        for i in range(k):\n",
    "            for j in range(k):\n",
    "                if i != j:\n",
    "                    c_id1 = find_index(node_club, i)  # 获取社团i的eg[0,1,2]\n",
    "                    c_id2 = find_index(node_club, j)  # 获取社团j的标号[3,4]\n",
    "                    id1 = list_unique([club_list[item] for item in c_id1])  # 找到社团i的标签eg[7]\n",
    "                    id2 = list_unique([club_list[item] for item in c_id2])  # 找到社团j的所有节点[8]\n",
    "                    E=0\n",
    "                    E_num=0\n",
    "                    V=0\n",
    "                    V_num=0\n",
    "                    for item in List: #遍历所有的边\n",
    "                        if (club_list[item[0]] in id1 and club_list[item[1]] in id1) or (club_list[item[0]] in id2 and club_list[item[1]] in id2) or (club_list[item[0]] in id1 and club_list[item[1]] in id2) or (club_list[item[0]] in id2 and club_list[item[1]] in id1):  #如果两个节点的标签在合并的社团内，则添加进去\n",
    "                            for edge_index in find_index(List, item):\n",
    "                                E=E+List_edge[edge_index]\n",
    "                                E_num+=1\n",
    "                    for x in c_id1:\n",
    "                        V=V+List_node[x]\n",
    "                        V_num+=1\n",
    "                    for y in c_id2:\n",
    "                        V=V+List_node[y]\n",
    "                        V_num+=1\n",
    "                    if E_num!=0:\n",
    "                        E=E/E_num\n",
    "                    V=V/V_num\n",
    "                    E=(100-E)/100\n",
    "                    V=(100-V)/100\n",
    "                    # print(c_id1,c_id2,club_list)\n",
    "                    # print(i,j,E,V)\n",
    "                    # print(e,a)\n",
    "                    DeltaQ = (2*(e[i][j]-a[i]*a[j]) + w*(E)*(V)) #第i和第j进行合并成社团的变化Q值，乘而由于只算一遍，但之前是除了2，相当于是变化的\n",
    "                    DeltaQs.append(DeltaQ)\n",
    "                    DeltaQs_i.append(i)  #第i社团\n",
    "                    DeltaQs_j.append(j)  #第j社团\n",
    "        maxDeltaQ = max(DeltaQs)  # 选择最大Q值的社团进行合并\n",
    "        id_club = DeltaQs.index(maxDeltaQ) #找到最大deltaq的位置\n",
    "        i = DeltaQs_i[id_club]   #找出第一个社团\n",
    "        j = DeltaQs_j[id_club]   #找出第二个社团\n",
    "        max_id = max_id + 1      #得出新的最大的id标号\n",
    "        c_id1 = find_index(node_club, i)  # 获取社团i的标号\n",
    "        c_id2 = find_index(node_club, j)  # 获取社团j的标号\n",
    "        id1 = list_unique([club_list[item] for item in c_id1])  # 找到社团i的所有节点\n",
    "        id2 = list_unique([club_list[item] for item in c_id2])  # 找到社团j的所有节点\n",
    "        # print(c_id1, c_id2, id1, id2,club_list,node_club)\n",
    "        for item in c_id1:\n",
    "            club_list[item] = max_id #将社团i的标号全部改为新的标签号\n",
    "\n",
    "        for item in c_id2:\n",
    "            club_list[item] = max_id #将社团j的标号全部改为新的标签号\n",
    "        Z.append([id1, id2, len(c_id1+c_id2)]) #修改的所有的节点以及修改的数量\n",
    "        step = step + 1  #步数+1\n",
    "        result_name = []\n",
    "        result_index = []\n",
    "        for item in list_unique(club_list):  #遍历所有的标签\n",
    "            tmp = find_index(club_list, item) #找到标签的位置，也是节点的索引号\n",
    "            result_name.append([node_list[t] for t in tmp]) #找到标签对应的节点的名称\n",
    "            result_index.append(tmp) #节点号索引进行添加\n",
    "        if len(result_name) <= divide_num: #划分次数\n",
    "            break\n",
    "    club_link=[]\n",
    "    for item in List:\n",
    "        if club_list[item[0]]!=club_list[item[1]]:  #如果两个节点的标签不相同，则添加进去\n",
    "            club_link.append(item)\n",
    "\n",
    "    return result_name,result_index,club_link"
   ]
  },
  {
   "cell_type": "markdown",
   "metadata": {},
   "source": [
    "# 构建量子映射图"
   ]
  },
  {
   "cell_type": "code",
   "execution_count": 4,
   "metadata": {},
   "outputs": [],
   "source": [
    "qubit_number=5               #量子位数\n",
    "w=0.1                        #权重\n",
    "value_error_list=[1.4,3.5,3.3,3.3,3.0]\n",
    "graph=Graph()\n",
    "for i in range(qubit_number):\n",
    "    graph.addVertex(i,value_error_list[i])\n",
    "graph.addEdge(0,1,0.5)\n",
    "graph.addEdge(1,2,1.2)\n",
    "graph.addEdge(1,3,1.0)\n",
    "graph.addEdge(3,4,1.3)"
   ]
  },
  {
   "cell_type": "markdown",
   "metadata": {},
   "source": [
    "# 执行Fast_Newman算法"
   ]
  },
  {
   "cell_type": "code",
   "execution_count": 5,
   "metadata": {},
   "outputs": [
    {
     "name": "stdout",
     "output_type": "stream",
     "text": [
      "([['node0', 'node1', 'node2', 'node3', 'node4']], [[0, 1, 2, 3, 4]], [])\n",
      "([['node0', 'node1', 'node2'], ['node3', 'node4']], [[0, 1, 2], [3, 4]], [[1, 3]])\n",
      "([['node0', 'node1'], ['node2'], ['node3', 'node4']], [[0, 1], [2], [3, 4]], [[1, 2], [1, 3]])\n",
      "([['node0'], ['node1'], ['node2'], ['node3', 'node4']], [[0], [1], [2], [3, 4]], [[0, 1], [1, 2], [1, 3]])\n",
      "([['node0'], ['node1'], ['node2'], ['node3', 'node4']], [[0], [1], [2], [3, 4]], [[0, 1], [1, 2], [1, 3]])\n"
     ]
    }
   ],
   "source": [
    "if __name__ == '__main__':\n",
    "    #权重\n",
    "    w=0.1\n",
    "    List, List_edge, List_node, node_list = change_Graph_to_List(graph)\n",
    "    for i in range(qubit_number):\n",
    "        print (fast_newman(node_list, List,List_edge,List_node, qubit_number, i+1))"
   ]
  },
  {
   "cell_type": "code",
   "execution_count": 6,
   "metadata": {},
   "outputs": [
    {
     "data": {
      "text/plain": [
       "[[0, 1], [1, 2], [1, 3], [3, 4]]"
      ]
     },
     "execution_count": 6,
     "metadata": {},
     "output_type": "execute_result"
    }
   ],
   "source": [
    "List"
   ]
  },
  {
   "cell_type": "code",
   "execution_count": 9,
   "metadata": {},
   "outputs": [
    {
     "data": {
      "text/plain": [
       "['node0', 'node1', 'node2', 'node3', 'node4']"
      ]
     },
     "execution_count": 9,
     "metadata": {},
     "output_type": "execute_result"
    }
   ],
   "source": [
    "node_list"
   ]
  }
 ],
 "metadata": {
  "interpreter": {
   "hash": "cc5f70855ac006f3de45a3cc3b9e7d8d53845e50458809cb162b0174266dec97"
  },
  "kernelspec": {
   "display_name": "Python 3.8.3 64-bit ('base': conda)",
   "name": "python3"
  },
  "language_info": {
   "codemirror_mode": {
    "name": "ipython",
    "version": 3
   },
   "file_extension": ".py",
   "mimetype": "text/x-python",
   "name": "python",
   "nbconvert_exporter": "python",
   "pygments_lexer": "ipython3",
   "version": "3.8.3"
  },
  "orig_nbformat": 4
 },
 "nbformat": 4,
 "nbformat_minor": 2
}
