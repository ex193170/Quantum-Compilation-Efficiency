{
 "cells": [
  {
   "cell_type": "code",
   "execution_count": 12,
   "metadata": {},
   "outputs": [],
   "source": [
    "#! /usr/bin/env python3\n",
    "\n",
    "import time\n",
    "import numpy as np\n",
    "import os.path\n",
    "from typing import Tuple, List\n",
    "import logging\n",
    "\n",
    "log = logging.getLogger(__name__)\n",
    "\n",
    "class DATAFile:\n",
    "    ibmq_guadalupe_calibrations = \"../../../data/ibmq_guadalupe_calibrations.csv\"\n",
    "\n",
    "class QCData:\n",
    "    \"\"\" Class for a quantum computer data system.\n",
    "\n",
    "        It loads data from the IBM(csv),and return two dict Vertex {node:read_error,...} and Edge {(node1,node2):CNOT_error,...}\n",
    "    Parameters\n",
    "    -----------\n",
    "    sys_path\n",
    "            Path to the data system\n",
    "\n",
    "    \"\"\"\n",
    "    def __init__(self,sys_path: str = None, read_test_data: bool = True):\n",
    "        self.dataflie = sys_path\n",
    "        self.vertex_number = 0\n",
    "        self.edge_number = 0\n",
    "        self.Vertex_error = {}\n",
    "        self.Edge_error = {}\n",
    "        self.data_columns = []\n",
    "        if read_test_data:\n",
    "            log.info(\"read the test data\")\n",
    "            self.read_test_data()\n",
    "            self.get_Vertex_error()\n",
    "            self.get_Edge_error()\n",
    "            log.info(f\"the test data qubit number is{self.vertex_number}\\n the edge number is {self.edge_number}\")\n",
    "    \n",
    "    def read_test_data(self):\n",
    "        with open(DATAFile.ibmq_guadalupe_calibrations,'r') as ibmq_guadalupe_calibrations_csv:\n",
    "            ibmq_guadalupe_calibrations = ibmq_guadalupe_calibrations_csv.read().splitlines()\n",
    "        return ibmq_guadalupe_calibrations\n",
    "\n",
    "    def read_datafile(self, file : str):\n",
    "        self.dataflie = file\n",
    "        with open(self.dataflie,'r') as ibmq_guadalupe_calibrations_csv:\n",
    "            ibmq_guadalupe_calibrations = ibmq_guadalupe_calibrations_csv.read().splitlines()\n",
    "        self.data_columns = ibmq_guadalupe_calibrations[0].split(\",\")\n",
    "        return ibmq_guadalupe_calibrations\n",
    "\n",
    "    def get_Vertex_error(self):\n",
    "        Qubit = []\n",
    "        Readout_assignment_error = []\n",
    "        self.vertex_number = 0\n",
    "\n",
    "        read_data = self.read_test_data()\n",
    "        for line in read_data[1:]:\n",
    "            listline = line.split(\",\")\n",
    "            Qubit.append(listline[0])\n",
    "            Readout_assignment_error.append(listline[5])\n",
    "            self.vertex_number += 1\n",
    "        self.Vertex_error = dict(zip(Qubit,Readout_assignment_error))\n",
    "        \n",
    "    def get_Edge_error(self):\n",
    "        self.edge_number = 0\n",
    "\n",
    "        read_data = self.read_test_data()\n",
    "        for line in read_data[1:]:\n",
    "            listline = line.split(\",\")\n",
    "            CNOT_list = listline[12].split(\";\")\n",
    "            for edge_error in CNOT_list:\n",
    "                edge, error = edge_error.split(\":\")\n",
    "                edge = tuple(sorted(map(int, edge.split(\"_\"))))\n",
    "                error = float(error)    # 考虑之后可以修改精度\n",
    "                if not self.Edge_error.get(edge):\n",
    "                    self.Edge_error[edge] = error\n",
    "                    self.edge_number += 1"
   ]
  },
  {
   "cell_type": "code",
   "execution_count": 13,
   "metadata": {},
   "outputs": [],
   "source": [
    "qcdata = QCData()"
   ]
  },
  {
   "cell_type": "code",
   "execution_count": 18,
   "metadata": {},
   "outputs": [
    {
     "data": {
      "text/plain": [
       "{(0, 1): 0.01112,\n",
       " (1, 4): 0.007006,\n",
       " (1, 2): 0.01342,\n",
       " (2, 3): 0.01464,\n",
       " (3, 5): 0.009636,\n",
       " (4, 7): 0.01005,\n",
       " (5, 8): 0.006623,\n",
       " (6, 7): 0.009708,\n",
       " (7, 10): 0.006815,\n",
       " (8, 9): 0.007418,\n",
       " (8, 11): 0.01483,\n",
       " (10, 12): 0.01185,\n",
       " (11, 14): 0.009974,\n",
       " (12, 15): 0.006693,\n",
       " (12, 13): 0.00818,\n",
       " (13, 14): 0.009884}"
      ]
     },
     "execution_count": 18,
     "metadata": {},
     "output_type": "execute_result"
    }
   ],
   "source": [
    "qcdata.Vertex_error\n",
    "qcdata.Edge_error"
   ]
  }
 ],
 "metadata": {
  "interpreter": {
   "hash": "cc5f70855ac006f3de45a3cc3b9e7d8d53845e50458809cb162b0174266dec97"
  },
  "kernelspec": {
   "display_name": "Python 3.8.3 ('base')",
   "language": "python",
   "name": "python3"
  },
  "language_info": {
   "codemirror_mode": {
    "name": "ipython",
    "version": 3
   },
   "file_extension": ".py",
   "mimetype": "text/x-python",
   "name": "python",
   "nbconvert_exporter": "python",
   "pygments_lexer": "ipython3",
   "version": "3.8.3"
  },
  "orig_nbformat": 4
 },
 "nbformat": 4,
 "nbformat_minor": 2
}
